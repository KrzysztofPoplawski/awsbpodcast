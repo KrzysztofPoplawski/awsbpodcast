{
  "nbformat": 4,
  "nbformat_minor": 0,
  "metadata": {
    "colab": {
      "provenance": [],
      "authorship_tag": "ABX9TyOiAJ0gnm9fWUon9kTj8+/o",
      "include_colab_link": true
    },
    "kernelspec": {
      "name": "python3",
      "display_name": "Python 3"
    },
    "language_info": {
      "name": "python"
    }
  },
  "cells": [
    {
      "cell_type": "markdown",
      "metadata": {
        "id": "view-in-github",
        "colab_type": "text"
      },
      "source": [
        "<a href=\"https://colab.research.google.com/github/KrzysztofPoplawski/awsbpodcast/blob/main/object_detection.ipynb\" target=\"_parent\"><img src=\"https://colab.research.google.com/assets/colab-badge.svg\" alt=\"Open In Colab\"/></a>"
      ]
    },
    {
      "cell_type": "code",
      "execution_count": null,
      "metadata": {
        "colab": {
          "base_uri": "https://localhost:8080/"
        },
        "id": "6AyvUW28TV6b",
        "outputId": "ac77405f-e9f6-4cd2-cc37-e4d83d3ba814"
      },
      "outputs": [
        {
          "metadata": {
            "tags": null
          },
          "name": "stderr",
          "output_type": "stream",
          "text": [
            "Downloading: \"https://github.com/ultralytics/yolov5/zipball/master\" to /root/.cache/torch/hub/master.zip\n"
          ]
        },
        {
          "output_type": "stream",
          "name": "stdout",
          "text": [
            "Creating new Ultralytics Settings v0.0.6 file ✅ \n",
            "View Ultralytics Settings with 'yolo settings' or at '/root/.config/Ultralytics/settings.json'\n",
            "Update Settings with 'yolo settings key=value', i.e. 'yolo settings runs_dir=path/to/dir'. For help see https://docs.ultralytics.com/quickstart/#ultralytics-settings.\n"
          ]
        },
        {
          "output_type": "stream",
          "name": "stderr",
          "text": [
            "YOLOv5 🚀 2025-4-6 Python-3.11.11 torch-2.6.0+cu124 CPU\n",
            "\n",
            "Downloading https://github.com/ultralytics/yolov5/releases/download/v7.0/yolov5s.pt to yolov5s.pt...\n",
            "100%|██████████| 14.1M/14.1M [00:00<00:00, 126MB/s] \n",
            "\n",
            "Fusing layers... \n",
            "YOLOv5s summary: 213 layers, 7225885 parameters, 0 gradients, 16.4 GFLOPs\n",
            "Adding AutoShape... \n",
            "/root/.cache/torch/hub/ultralytics_yolov5_master/models/common.py:906: FutureWarning: `torch.cuda.amp.autocast(args...)` is deprecated. Please use `torch.amp.autocast('cuda', args...)` instead.\n",
            "  with amp.autocast(autocast):\n"
          ]
        },
        {
          "output_type": "stream",
          "name": "stdout",
          "text": [
            "Zapisano wynik jako 'wynik.jpg'\n"
          ]
        }
      ],
      "source": [
        "import torch\n",
        "import cv2\n",
        "\n",
        "# Załaduj model YOLOv5\n",
        "model = torch.hub.load('ultralytics/yolov5', 'yolov5s', trust_repo=True)\n",
        "\n",
        "# Wczytaj obrazek\n",
        "img = cv2.imread('aimage2.jpg')  # zamień na swój obrazek\n",
        "img_rgb = cv2.cvtColor(img, cv2.COLOR_BGR2RGB)\n",
        "\n",
        "# Wykryj obiekty\n",
        "results = model(img_rgb)\n",
        "\n",
        "# Pobierz dane wykrytych obiektów\n",
        "detections = results.xyxy[0]  # x1, y1, x2, y2, confidence, class\n",
        "\n",
        "# Pobierz nazwy klas (np. 'person', 'bicycle', itd.)\n",
        "labels = results.names\n",
        "\n",
        "# Rysuj prostokąty i etykiety\n",
        "for det in detections:\n",
        "    x1, y1, x2, y2, conf, cls = det\n",
        "    label = labels[int(cls)]\n",
        "    conf_text = f'{label} {conf:.2f}'\n",
        "\n",
        "    # Rysuj prostokąt\n",
        "    cv2.rectangle(img, (int(x1), int(y1)), (int(x2), int(y2)), (0, 255, 0), 2)\n",
        "\n",
        "    # Dodaj podpis\n",
        "    cv2.putText(img, conf_text, (int(x1), int(y1) - 10),\n",
        "                cv2.FONT_HERSHEY_SIMPLEX, 0.5, (0, 255, 0), 2)\n",
        "\n",
        "# Zapisz obrazek do pliku\n",
        "cv2.imwrite('wynik.jpg', img)\n",
        "print(\"Zapisano wynik jako 'wynik.jpg'\")\n"
      ]
    }
  ]
}